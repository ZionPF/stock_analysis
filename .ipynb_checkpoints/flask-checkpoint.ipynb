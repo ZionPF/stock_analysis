{
 "cells": [
  {
   "cell_type": "code",
   "execution_count": null,
   "metadata": {},
   "outputs": [],
   "source": [
    "class NewsLabel():\n",
    "    '''\n",
    "    该类作为新闻标记数据的功能载体，实现以下四个主要功能：\n",
    "        1. 新闻重复标记\n",
    "        2. 新闻包含股票名/股票代码识别标记\n",
    "        3. 新闻关联板块推断标记\n",
    "        4. 新闻关联股票推断标记\n",
    "    \n",
    "    Attributes:\n",
    "    \n",
    "    news_1h: a list of news to compare recurrence with\n",
    "    stock_id_dict: a dictionary of stock:id \n",
    "    id_stock_dict: a dictionary of id:stock\n",
    "    LDA_model: a lda model object of LDA model\n",
    "    RF_model: a random forest model object of RF model\n",
    "    plate_stock_dict: a dictionary of plate:[stock1,2,3]\n",
    " \n",
    "    '''\n",
    "    def is_recur(news_word_list):\n",
    "        '''\n",
    "        input: news\n",
    "        '''\n"
   ]
  },
  {
   "cell_type": "code",
   "execution_count": 1,
   "metadata": {},
   "outputs": [
    {
     "name": "stderr",
     "output_type": "stream",
     "text": [
      " * Running on http://0.0.0.0:5000/ (Press CTRL+C to quit)\n",
      "10.200.44.16 - - [08/May/2018 19:46:33] \"POST /data/v1.0/getwhatever?time=1314 HTTP/1.1\" 200 -\n",
      "10.200.44.16 - - [08/May/2018 19:49:20] \"POST /data/v1.0/getwhatever HTTP/1.1\" 200 -\n",
      "10.200.44.16 - - [08/May/2018 19:49:25] \"POST /data/v1.0/getwhatever?time=1314 HTTP/1.1\" 200 -\n",
      "10.200.44.16 - - [08/May/2018 19:49:35] \"POST /data/v1.0/getwhatever/?time=1314 HTTP/1.1\" 404 -\n",
      "10.200.44.16 - - [08/May/2018 19:50:03] \"POST /data/v1.0/getwhatever?time=%271314%27 HTTP/1.1\" 200 -\n",
      "10.200.44.16 - - [08/May/2018 19:50:09] \"POST /data/v1.0/getwhatever?%27time%27=%271314%27 HTTP/1.1\" 200 -\n",
      "10.200.44.16 - - [08/May/2018 19:51:44] \"POST /data/v1.0/getwhatever? HTTP/1.1\" 200 -\n"
     ]
    },
    {
     "name": "stdout",
     "output_type": "stream",
     "text": [
      "\n"
     ]
    },
    {
     "name": "stderr",
     "output_type": "stream",
     "text": [
      "10.200.44.16 - - [08/May/2018 19:52:08] \"POST /data/v1.0/getwhatever? HTTP/1.1\" 200 -\n"
     ]
    },
    {
     "name": "stdout",
     "output_type": "stream",
     "text": [
      "1314\n"
     ]
    }
   ],
   "source": [
    "from flask import Flask\n",
    "from flask import request\n",
    "\n",
    "app = Flask(__name__)\n",
    "\n",
    "@app.route('/')\n",
    "def hello_world():\n",
    "    return 'Hello World!'\n",
    "\n",
    "@app.route('/data/v1.0/getLabels/', methods=['POST'])\n",
    "def getLabels():\n",
    "    try:\n",
    "        print(request.form['time'])\n",
    "        print(request.form['title'])\n",
    "        print(request.form['content'])\n",
    "        return 'Hello data!'\n",
    "    except:\n",
    "        return \"something wrong\"\n",
    "\n",
    "@app.route('/data/v1.0/getwhatever', methods=['POST'])\n",
    "def getwhatever():\n",
    "    try:\n",
    "        print(request.form['time'])\n",
    "        return 'lalala'\n",
    "    except:\n",
    "        return 'change it'\n",
    "\n",
    "if __name__ == '__main__':\n",
    "    app.run(\"0.0.0.0\")"
   ]
  },
  {
   "cell_type": "code",
   "execution_count": 9,
   "metadata": {},
   "outputs": [
    {
     "data": {
      "text/plain": [
       "'{\"id\": 123, \"in_stock\": \"01002,01003,01004\", \"plate\": \"\\\\u96c4\\\\u5b89\\\\uff0c\\\\u7535\\\\u5b50\\\\u5546\\\\u52a1\\\\uff0c\\\\u623f\\\\u5730\\\\u4ea7\", \"ref_stock\": \"01002,01005,01006\", \"repeated\": true}'"
      ]
     },
     "execution_count": 9,
     "metadata": {},
     "output_type": "execute_result"
    }
   ],
   "source": [
    "import json\n",
    "ret_labels = {\"id\":123,\"repeated\":True,\"in_stock\":\"01002,01003,01004\",\"plate\":\"雄安，电子商务，房地产\",\"ref_stock\":\"01002,01005,01006\"}\n",
    "json.dumps(ret_labels)"
   ]
  },
  {
   "cell_type": "code",
   "execution_count": 1,
   "metadata": {},
   "outputs": [
    {
     "name": "stderr",
     "output_type": "stream",
     "text": [
      "Building prefix dict from the default dictionary ...\n",
      "Loading model from cache /tmp/jieba.cache\n",
      "Loading model cost 0.858 seconds.\n",
      "Prefix dict has been built succesfully.\n"
     ]
    },
    {
     "name": "stdout",
     "output_type": "stream",
     "text": [
      "load 1h news success\n",
      "tf-idf model has beens build successfully\n"
     ]
    }
   ],
   "source": [
    "import json\n",
    "from flask import Flask\n",
    "from flask import request\n",
    "import word_segmentation as ws\n",
    "import news_similarity as ns\n",
    "import extract_stock_code as esc\n",
    "\n",
    "WordSegmentation = ws.WordSegmentation()\n",
    "NewsSimilarity = ns.NewsSimilarity()\n",
    "ExtractStockCode = esc.ExtractStockCode()"
   ]
  },
  {
   "cell_type": "code",
   "execution_count": null,
   "metadata": {},
   "outputs": [
    {
     "name": "stderr",
     "output_type": "stream",
     "text": [
      " * Running on http://0.0.0.0:5000/ (Press CTRL+C to quit)\n"
     ]
    },
    {
     "name": "stdout",
     "output_type": "stream",
     "text": [
      "1525682235\n",
      "新浪财经讯 3月12日消息\n",
      "海航基础（600515）3月12日晚间公告，孙公司海航地产拟与海南融创昌晟签订《股权转让协议》，出售海航地产所持有的海岛物流100%的股权，转让价款约7.97亿元；同时，海航地产拟出售所持有的海南高和房地产开发有限公司100%的股权至海南融创昌晟，转让价款约11.36亿元。责任编辑：张恒\r\n",
      "\n",
      "['新浪', '财经', '讯', '月', '日', '消息', '海航', '基础', '海航基础', '600515', '月', '日', '晚间', '公告', '孙', '公司', '海航', '地产', '拟', '海南', '融创昌晟', '签订', '股权', '转让', '协议', '出售', '海航', '地产', '持有', '海岛', '物流', '股权', '转让', '价款', '约', '亿元', '海航', '地产', '拟', '出售', '持有', '海南', '高', '房地', '地产', '房地产', '开发', '有限', '公司', '有限公司', '股权', '海南', '融创昌晟', '转让', '价款', '约', '亿元', '责任', '编辑', '责任编辑', '张恒']\n",
      "600515\n"
     ]
    },
    {
     "name": "stderr",
     "output_type": "stream",
     "text": [
      "10.200.44.16 - - [08/May/2018 20:58:13] \"POST /data/v1.0/getLabels/? HTTP/1.1\" 200 -\n"
     ]
    },
    {
     "name": "stdout",
     "output_type": "stream",
     "text": [
      "similarity success\n"
     ]
    }
   ],
   "source": [
    "app = Flask(__name__)\n",
    "\n",
    "@app.route('/')\n",
    "def hello_world():\n",
    "    return 'Hello World!'\n",
    "\n",
    "@app.route('/data/v1.0/getLabels/', methods=['POST'])\n",
    "def getLabels():\n",
    "    print(request.form['time'])\n",
    "    print(request.form['title'])\n",
    "    print(request.form['content'])\n",
    "    str_time = request.form['time']\n",
    "    str_title = request.form['title']\n",
    "    str_content = request.form['content']\n",
    "          \n",
    "    news_seg = WordSegmentation.word_segmentation(str_title + str_content)\n",
    "    print(news_seg)\n",
    "    str_code_list = ExtractStockCode.extract_stock_code(news_seg)\n",
    "    print(str_code_list)\n",
    "    repeat = NewsSimilarity.news_similarity(news_seg)\n",
    "    NewsSimilarity.add_news(str_time, news_seg)\n",
    "    return (str_code_list + ',' + str(repeat))\n",
    "\n",
    "if __name__ == '__main__':\n",
    "    app.run(\"0.0.0.0\")\n"
   ]
  }
 ],
 "metadata": {
  "kernelspec": {
   "display_name": "Python 3",
   "language": "python",
   "name": "python3"
  },
  "language_info": {
   "codemirror_mode": {
    "name": "ipython",
    "version": 3
   },
   "file_extension": ".py",
   "mimetype": "text/x-python",
   "name": "python",
   "nbconvert_exporter": "python",
   "pygments_lexer": "ipython3",
   "version": "3.5.2"
  }
 },
 "nbformat": 4,
 "nbformat_minor": 2
}
