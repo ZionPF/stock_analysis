{
 "cells": [
  {
   "cell_type": "code",
   "execution_count": 35,
   "metadata": {},
   "outputs": [],
   "source": [
    "import time\n",
    "import word_segmentation as ws\n",
    "import news_similarity_class as ns\n",
    "import extract_stock_code_class as sc\n",
    "\n",
    "\n",
    "class NewsLabel():\n",
    "    '''\n",
    "    该类作为新闻标记数据的功能载体，实现以下四个主要功能：\n",
    "        1. 新闻重复标记(is_recur)\n",
    "        2. 新闻包含股票名/股票代码识别标记(in_stock)\n",
    "        3. 新闻关联板块推断标记(infer_plate)\n",
    "        4. 新闻关联股票推断标记(infer_stock)\n",
    "    \n",
    "    Attributes:\n",
    "    \n",
    "    news_1h: a list of news to compare recurrence with\n",
    "    stock_id_dict: a dictionary of stock:id \n",
    "    id_stock_dict: a dictionary of id:stock\n",
    "    LDA_model: a lda model object of LDA model\n",
    "    RF_model: a random forest model object of RF model\n",
    "    plate_stock_dict: a dictionary of plate:[stock1,2,3]\n",
    " \n",
    "    '''\n",
    "    \n",
    "    def __init__(self):\n",
    "        time_start = time.time()\n",
    "        self.seg = ws.WordSegmentation()\n",
    "        print(\"segmentation initialized in\",time.time()-time_start)\n",
    "#         time_start = time.time()\n",
    "#         self.sim = ns.NewsSimilarity()\n",
    "#         print(\"news similarity initialized in\",time.time()-time_start)\n",
    "        time_start = time.time()\n",
    "        self.stock = sc.ExtractStockCode()\n",
    "        print(\"extract stockcode initialized in\",time.time()-time_start)\n",
    "        \n",
    "    def news_label(self,news_id,news_text):\n",
    "        '''\n",
    "        input: news text as string\n",
    "        output: dictionary of four labels\n",
    "        '''\n",
    "        news_seg = self.seg.word_segmentation(news_text)\n",
    "#         is_recur = sim.news_similarity(news_seg)\n",
    "#         sim.add_news(news_seg)\n",
    "#         print(is_recur)\n",
    "        in_stock = self.stock.extract_stock_code(news_seg)\n",
    "        \n",
    "        ret_labels = {\"id\":news_id,\"is_recur\":True,\"in_stock\":in_stock}\n",
    "        return ret_labels\n"
   ]
  },
  {
   "cell_type": "code",
   "execution_count": 36,
   "metadata": {},
   "outputs": [
    {
     "name": "stderr",
     "output_type": "stream",
     "text": [
      " * Running on http://0.0.0.0:5000/ (Press CTRL+C to quit)\n"
     ]
    },
    {
     "name": "stdout",
     "output_type": "stream",
     "text": [
      "Initializing...\n",
      "segmentation initialized in 0.003386259078979492\n",
      "extract stockcode initialized in 0.003414630889892578\n",
      "Now let's post!\n"
     ]
    },
    {
     "name": "stderr",
     "output_type": "stream",
     "text": [
      "10.200.44.212 - - [08/May/2018 16:51:17] \"POST /data/v1.0/getLabels/ HTTP/1.1\" 200 -\n"
     ]
    },
    {
     "name": "stdout",
     "output_type": "stream",
     "text": [
      "text: 新浪财经讯 3月12日消息海航基础（600515）3月12日晚间公告，孙公司海航地产拟与海南融创昌晟签订《股权转让协议》，出售海航地产所持有的海岛物流100%的股权，转让价款约7.97亿元；同时，海航地产拟出售所持有的海南高和房地产开发有限公司100%的股权至海南融创昌晟，转让价款约11.36亿元。责任编辑：张恒\"\n"
     ]
    }
   ],
   "source": [
    "from flask import Flask\n",
    "from flask import request\n",
    "import json\n",
    "\n",
    "app = Flask(__name__)\n",
    "\n",
    "print(\"Initializing...\")\n",
    "analyzer = NewsLabel()\n",
    "print(\"Now let's post!\")\n",
    "\n",
    "@app.route('/')\n",
    "def hello_world():\n",
    "    return 'Hello World!'\n",
    "\n",
    "@app.route('/data/v1.0/getLabels/', methods=['POST'])\n",
    "def getLabels():\n",
    "    news_id = request.form['id']\n",
    "    news_text = request.form['title'] + request.form['content']\n",
    "    ret_labels = analyzer.news_label(news_id, news_text)\n",
    "    return json.dumps(ret_labels)\n",
    "    \n",
    "\n",
    "if __name__ == '__main__':\n",
    "    app.run(\"0.0.0.0\")"
   ]
  },
  {
   "cell_type": "code",
   "execution_count": 9,
   "metadata": {},
   "outputs": [
    {
     "data": {
      "text/plain": [
       "'{\"id\": 123, \"in_stock\": \"01002,01003,01004\", \"plate\": \"\\\\u96c4\\\\u5b89\\\\uff0c\\\\u7535\\\\u5b50\\\\u5546\\\\u52a1\\\\uff0c\\\\u623f\\\\u5730\\\\u4ea7\", \"ref_stock\": \"01002,01005,01006\", \"repeated\": true}'"
      ]
     },
     "execution_count": 9,
     "metadata": {},
     "output_type": "execute_result"
    }
   ],
   "source": [
    "import json\n",
    "ret_labels = {\"id\":123,\"repeated\":True,\"in_stock\":\"01002,01003,01004\",\"plate\":\"雄安，电子商务，房地产\",\"ref_stock\":\"01002,01005,01006\"}\n",
    "json.dumps(ret_labels)"
   ]
  },
  {
   "cell_type": "code",
   "execution_count": null,
   "metadata": {},
   "outputs": [],
   "source": []
  }
 ],
 "metadata": {
  "kernelspec": {
   "display_name": "Python 3",
   "language": "python",
   "name": "python3"
  },
  "language_info": {
   "codemirror_mode": {
    "name": "ipython",
    "version": 3
   },
   "file_extension": ".py",
   "mimetype": "text/x-python",
   "name": "python",
   "nbconvert_exporter": "python",
   "pygments_lexer": "ipython3",
   "version": "3.5.2"
  }
 },
 "nbformat": 4,
 "nbformat_minor": 2
}
