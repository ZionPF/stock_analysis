{
 "cells": [
  {
   "cell_type": "markdown",
   "metadata": {},
   "source": [
    "# 离线语料分析建模及板块预测模型优化\n",
    "\n",
    "LDA：\n",
    "\n",
    "* 生成语料库（初期由csv文件生成，后期由数据集中获取）\n",
    "* 读取语料库（每行一条资讯，已分词，空格分隔）\n",
    "* 利用语料库训练LDA模型并保存\n",
    "\n",
    "RF：\n",
    "\n",
    "* 读取标记数据库（每行一条资讯，第一列为标签，第二列为资讯，已分词，空格分隔）\n",
    "* 利用LDA模型转换资讯为Vector-标记 格式\n",
    "* 训练RF模型并保存"
   ]
  },
  {
   "cell_type": "code",
   "execution_count": 1,
   "metadata": {},
   "outputs": [],
   "source": [
    "# 新闻爬取xlxs文件目录：\n",
    "NEWS_PATH = '../news/'\n",
    "#语料库文件路径：\n",
    "DATA_PATH = '../data/news_words.txt'\n",
    "#标记数据路径\n",
    "LABEL_PATH = '../labels/'\n",
    "# LDA Model 路径：\n",
    "LDA_PATH = '../model/lda.model'\n",
    "\n",
    "#coding=utf-8  \n",
    "import codecs  \n",
    "from gensim import corpora  \n",
    "from gensim.models import LdaModel  \n",
    "from gensim.corpora import Dictionary  \n",
    "\n",
    "\n",
    "import jieba\n",
    "import csv\n",
    "import numpy as np  \n",
    "import os  \n",
    "import pandas as pd\n",
    "from sklearn.naive_bayes import GaussianNB  \n",
    "   \n",
    "import time    \n",
    "from sklearn import metrics    \n",
    "import pickle as pickle    \n",
    "import pandas as pd  \n",
    "  \n",
    "import random"
   ]
  },
  {
   "cell_type": "markdown",
   "metadata": {},
   "source": [
    "## 语料库载入及LDA模型训练"
   ]
  },
  {
   "cell_type": "code",
   "execution_count": null,
   "metadata": {},
   "outputs": [],
   "source": [
    "# 遍历语料库文件，逐步增加dictionary\n",
    "print(\"Start reading corpus file...\")\n",
    "start_time = time.time()    \n",
    "fr=open(DATA_PATH,'r')  \n",
    "train=[]  \n",
    "dictionary = corpora.Dictionary()\n",
    "for line in fr.readlines():  \n",
    "    line=line.split(' ')  \n",
    "    dictionary.add_documents([line]) \n",
    "dictionary.doc2bow([\"军工\",\"金融\"])\n",
    "print('Composing dictionary took %fs!' % (time.time() - start_time)) \n",
    "start_time = time.time()\n",
    "corpus = [ dictionary.doc2bow(text) for text in train ]  \n",
    "print('Loading corpus took %fs!' % (time.time() - start_time)) \n",
    "\n",
    "#训练LDA模型\n",
    "start_time = time.time()    \n",
    "lda = LdaModel(corpus=corpus, id2word=dictionary, num_topics=200)  \n",
    "lda.save(LDA_PATH)\n",
    "print('LDA training took %fs!' % (time.time() - start_time)) \n"
   ]
  },
  {
   "cell_type": "code",
   "execution_count": 5,
   "metadata": {},
   "outputs": [
    {
     "data": {
      "text/plain": [
       "'2018-05-07'"
      ]
     },
     "execution_count": 5,
     "metadata": {},
     "output_type": "execute_result"
    }
   ],
   "source": [
    "today = time.strftime('%Y-%m-%d',time.localtime())\n",
    "os.rename(LDA_PATH,LDA_PATH+today)"
   ]
  }
 ],
 "metadata": {
  "kernelspec": {
   "display_name": "Python 3",
   "language": "python",
   "name": "python3"
  },
  "language_info": {
   "codemirror_mode": {
    "name": "ipython",
    "version": 3
   },
   "file_extension": ".py",
   "mimetype": "text/x-python",
   "name": "python",
   "nbconvert_exporter": "python",
   "pygments_lexer": "ipython3",
   "version": "3.5.2"
  }
 },
 "nbformat": 4,
 "nbformat_minor": 2
}
