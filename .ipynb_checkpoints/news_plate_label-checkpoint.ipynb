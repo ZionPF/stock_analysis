{
 "cells": [
  {
   "cell_type": "markdown",
   "metadata": {},
   "source": [
    "# 在线标记资讯关联板块\n",
    "\n",
    "* 加载LDA模型\n",
    "* 加载RF分类模型\n",
    "* 对于资讯，用LDA变为Vector\n",
    "* 将Vector进行分类，输出前三的板块名\n"
   ]
  },
  {
   "cell_type": "code",
   "execution_count": 8,
   "metadata": {},
   "outputs": [],
   "source": [
    "# 新闻爬取xlxs文件目录：\n",
    "NEWS_PATH = '../news/'\n",
    "#语料库文件路径：\n",
    "DATA_PATH = '../data/news_words.txt'\n",
    "#标记文件路径\n",
    "LABEL_PATH = '../data/news_labels.txt'\n",
    "#标记数据路径\n",
    "LABEL_DIR = '../labels/'\n",
    "# LDA Model 路径：\n",
    "LDA_PATH = '../model/lda.model'\n",
    "# Dictionary 路径\n",
    "DICT_PATH = '../model/dictionary.txtdic'\n",
    "# Random Forest 模型路径\n",
    "RF_PATH = '../model/rf.model'\n",
    "\n",
    "from sklearn.externals import joblib\n",
    "#lr是一个LogisticRegression模型\n",
    "\n",
    "import word_segmentation as ws\n",
    "from gensim import corpora  \n",
    "from gensim.models import LdaModel  \n",
    "from gensim.corpora import Dictionary  \n",
    "import numpy as np  \n",
    "\n",
    "class PlateLabel():\n",
    "    def __init__(self,dict_path = DICT_PATH,lda_path = LDA_PATH, rf_path = RF_PATH ):\n",
    "        self.lda = LdaModel.load(lda_path)\n",
    "        self.dictionary = corpora.Dictionary.load(dict_path)\n",
    "        self.rf = joblib.load(rf_path)\n",
    "    \n",
    "    # turn lda result into list\n",
    "    def lda2list(self,lda,topic_n):\n",
    "        lda_dict = dict(lda)\n",
    "        lda_list = [0] * topic_n\n",
    "        for i in range(topic_n):\n",
    "            lda_list[i] = lda_dict.get(i,0)\n",
    "        return lda_list\n",
    "    \n",
    "    def plate_forcast(self,news_words_list):\n",
    "        news_bow = self.dictionary.doc2bow(news_words_list)      #文档转换成bow  \n",
    "        news_lda = self.lda2list(self.lda[news_bow],301)\n",
    "        return self.rf.predict([np.array(news_lda)])\n",
    "\n"
   ]
  },
  {
   "cell_type": "code",
   "execution_count": 9,
   "metadata": {},
   "outputs": [
    {
     "ename": "MemoryError",
     "evalue": "could not allocate 83732240 bytes",
     "output_type": "error",
     "traceback": [
      "\u001b[0;31m---------------------------------------------------------------------------\u001b[0m",
      "\u001b[0;31mMemoryError\u001b[0m                               Traceback (most recent call last)",
      "\u001b[0;32m<ipython-input-9-18e2e8864ccc>\u001b[0m in \u001b[0;36m<module>\u001b[0;34m()\u001b[0m\n\u001b[1;32m      3\u001b[0m \u001b[0;31m# 加载新闻分词\u001b[0m\u001b[0;34m\u001b[0m\u001b[0;34m\u001b[0m\u001b[0m\n\u001b[1;32m      4\u001b[0m \u001b[0msegmentationer\u001b[0m \u001b[0;34m=\u001b[0m \u001b[0mws\u001b[0m\u001b[0;34m.\u001b[0m\u001b[0mWordSegmentation\u001b[0m\u001b[0;34m(\u001b[0m\u001b[0;34m)\u001b[0m\u001b[0;34m\u001b[0m\u001b[0m\n\u001b[0;32m----> 5\u001b[0;31m \u001b[0mlabeler\u001b[0m \u001b[0;34m=\u001b[0m \u001b[0mPlateLabel\u001b[0m\u001b[0;34m(\u001b[0m\u001b[0;34m)\u001b[0m\u001b[0;34m\u001b[0m\u001b[0m\n\u001b[0m\u001b[1;32m      6\u001b[0m \u001b[0mprint\u001b[0m\u001b[0;34m(\u001b[0m\u001b[0;34m'Initiating cost {:.0f}s'\u001b[0m\u001b[0;34m.\u001b[0m\u001b[0mformat\u001b[0m\u001b[0;34m(\u001b[0m\u001b[0mtime\u001b[0m\u001b[0;34m.\u001b[0m\u001b[0mtime\u001b[0m\u001b[0;34m(\u001b[0m\u001b[0;34m)\u001b[0m\u001b[0;34m-\u001b[0m\u001b[0mtime_start\u001b[0m\u001b[0;34m)\u001b[0m\u001b[0;34m)\u001b[0m\u001b[0;34m\u001b[0m\u001b[0m\n",
      "\u001b[0;32m<ipython-input-8-50e72e9e5209>\u001b[0m in \u001b[0;36m__init__\u001b[0;34m(self, dict_path, lda_path, rf_path)\u001b[0m\n\u001b[1;32m     27\u001b[0m         \u001b[0mself\u001b[0m\u001b[0;34m.\u001b[0m\u001b[0mlda\u001b[0m \u001b[0;34m=\u001b[0m \u001b[0mLdaModel\u001b[0m\u001b[0;34m.\u001b[0m\u001b[0mload\u001b[0m\u001b[0;34m(\u001b[0m\u001b[0mlda_path\u001b[0m\u001b[0;34m)\u001b[0m\u001b[0;34m\u001b[0m\u001b[0m\n\u001b[1;32m     28\u001b[0m         \u001b[0mself\u001b[0m\u001b[0;34m.\u001b[0m\u001b[0mdictionary\u001b[0m \u001b[0;34m=\u001b[0m \u001b[0mcorpora\u001b[0m\u001b[0;34m.\u001b[0m\u001b[0mDictionary\u001b[0m\u001b[0;34m.\u001b[0m\u001b[0mload\u001b[0m\u001b[0;34m(\u001b[0m\u001b[0mdict_path\u001b[0m\u001b[0;34m)\u001b[0m\u001b[0;34m\u001b[0m\u001b[0m\n\u001b[0;32m---> 29\u001b[0;31m         \u001b[0mself\u001b[0m\u001b[0;34m.\u001b[0m\u001b[0mrf\u001b[0m \u001b[0;34m=\u001b[0m \u001b[0mjoblib\u001b[0m\u001b[0;34m.\u001b[0m\u001b[0mload\u001b[0m\u001b[0;34m(\u001b[0m\u001b[0mrf_path\u001b[0m\u001b[0;34m)\u001b[0m\u001b[0;34m\u001b[0m\u001b[0m\n\u001b[0m\u001b[1;32m     30\u001b[0m \u001b[0;34m\u001b[0m\u001b[0m\n\u001b[1;32m     31\u001b[0m     \u001b[0;31m# turn lda result into list\u001b[0m\u001b[0;34m\u001b[0m\u001b[0;34m\u001b[0m\u001b[0m\n",
      "\u001b[0;32m~/.local/lib/python3.5/site-packages/sklearn/externals/joblib/numpy_pickle.py\u001b[0m in \u001b[0;36mload\u001b[0;34m(filename, mmap_mode)\u001b[0m\n\u001b[1;32m    576\u001b[0m                     \u001b[0;32mreturn\u001b[0m \u001b[0mload_compatibility\u001b[0m\u001b[0;34m(\u001b[0m\u001b[0mfobj\u001b[0m\u001b[0;34m)\u001b[0m\u001b[0;34m\u001b[0m\u001b[0m\n\u001b[1;32m    577\u001b[0m \u001b[0;34m\u001b[0m\u001b[0m\n\u001b[0;32m--> 578\u001b[0;31m                 \u001b[0mobj\u001b[0m \u001b[0;34m=\u001b[0m \u001b[0m_unpickle\u001b[0m\u001b[0;34m(\u001b[0m\u001b[0mfobj\u001b[0m\u001b[0;34m,\u001b[0m \u001b[0mfilename\u001b[0m\u001b[0;34m,\u001b[0m \u001b[0mmmap_mode\u001b[0m\u001b[0;34m)\u001b[0m\u001b[0;34m\u001b[0m\u001b[0m\n\u001b[0m\u001b[1;32m    579\u001b[0m \u001b[0;34m\u001b[0m\u001b[0m\n\u001b[1;32m    580\u001b[0m     \u001b[0;32mreturn\u001b[0m \u001b[0mobj\u001b[0m\u001b[0;34m\u001b[0m\u001b[0m\n",
      "\u001b[0;32m~/.local/lib/python3.5/site-packages/sklearn/externals/joblib/numpy_pickle.py\u001b[0m in \u001b[0;36m_unpickle\u001b[0;34m(fobj, filename, mmap_mode)\u001b[0m\n\u001b[1;32m    506\u001b[0m     \u001b[0mobj\u001b[0m \u001b[0;34m=\u001b[0m \u001b[0;32mNone\u001b[0m\u001b[0;34m\u001b[0m\u001b[0m\n\u001b[1;32m    507\u001b[0m     \u001b[0;32mtry\u001b[0m\u001b[0;34m:\u001b[0m\u001b[0;34m\u001b[0m\u001b[0m\n\u001b[0;32m--> 508\u001b[0;31m         \u001b[0mobj\u001b[0m \u001b[0;34m=\u001b[0m \u001b[0munpickler\u001b[0m\u001b[0;34m.\u001b[0m\u001b[0mload\u001b[0m\u001b[0;34m(\u001b[0m\u001b[0;34m)\u001b[0m\u001b[0;34m\u001b[0m\u001b[0m\n\u001b[0m\u001b[1;32m    509\u001b[0m         \u001b[0;32mif\u001b[0m \u001b[0munpickler\u001b[0m\u001b[0;34m.\u001b[0m\u001b[0mcompat_mode\u001b[0m\u001b[0;34m:\u001b[0m\u001b[0;34m\u001b[0m\u001b[0m\n\u001b[1;32m    510\u001b[0m             warnings.warn(\"The file '%s' has been generated with a \"\n",
      "\u001b[0;32m/usr/lib/python3.5/pickle.py\u001b[0m in \u001b[0;36mload\u001b[0;34m(self)\u001b[0m\n\u001b[1;32m   1037\u001b[0m                     \u001b[0;32mraise\u001b[0m \u001b[0mEOFError\u001b[0m\u001b[0;34m\u001b[0m\u001b[0m\n\u001b[1;32m   1038\u001b[0m                 \u001b[0;32massert\u001b[0m \u001b[0misinstance\u001b[0m\u001b[0;34m(\u001b[0m\u001b[0mkey\u001b[0m\u001b[0;34m,\u001b[0m \u001b[0mbytes_types\u001b[0m\u001b[0;34m)\u001b[0m\u001b[0;34m\u001b[0m\u001b[0m\n\u001b[0;32m-> 1039\u001b[0;31m                 \u001b[0mdispatch\u001b[0m\u001b[0;34m[\u001b[0m\u001b[0mkey\u001b[0m\u001b[0;34m[\u001b[0m\u001b[0;36m0\u001b[0m\u001b[0;34m]\u001b[0m\u001b[0;34m]\u001b[0m\u001b[0;34m(\u001b[0m\u001b[0mself\u001b[0m\u001b[0;34m)\u001b[0m\u001b[0;34m\u001b[0m\u001b[0m\n\u001b[0m\u001b[1;32m   1040\u001b[0m         \u001b[0;32mexcept\u001b[0m \u001b[0m_Stop\u001b[0m \u001b[0;32mas\u001b[0m \u001b[0mstopinst\u001b[0m\u001b[0;34m:\u001b[0m\u001b[0;34m\u001b[0m\u001b[0m\n\u001b[1;32m   1041\u001b[0m             \u001b[0;32mreturn\u001b[0m \u001b[0mstopinst\u001b[0m\u001b[0;34m.\u001b[0m\u001b[0mvalue\u001b[0m\u001b[0;34m\u001b[0m\u001b[0m\n",
      "\u001b[0;32m~/.local/lib/python3.5/site-packages/sklearn/externals/joblib/numpy_pickle.py\u001b[0m in \u001b[0;36mload_build\u001b[0;34m(self)\u001b[0m\n\u001b[1;32m    326\u001b[0m         \u001b[0mNDArrayWrapper\u001b[0m \u001b[0;32mis\u001b[0m \u001b[0mused\u001b[0m \u001b[0;32mfor\u001b[0m \u001b[0mbackward\u001b[0m \u001b[0mcompatibility\u001b[0m \u001b[0;32mwith\u001b[0m \u001b[0mjoblib\u001b[0m \u001b[0;34m<=\u001b[0m \u001b[0;36m0.9\u001b[0m\u001b[0;34m.\u001b[0m\u001b[0;34m\u001b[0m\u001b[0m\n\u001b[1;32m    327\u001b[0m         \"\"\"\n\u001b[0;32m--> 328\u001b[0;31m         \u001b[0mUnpickler\u001b[0m\u001b[0;34m.\u001b[0m\u001b[0mload_build\u001b[0m\u001b[0;34m(\u001b[0m\u001b[0mself\u001b[0m\u001b[0;34m)\u001b[0m\u001b[0;34m\u001b[0m\u001b[0m\n\u001b[0m\u001b[1;32m    329\u001b[0m \u001b[0;34m\u001b[0m\u001b[0m\n\u001b[1;32m    330\u001b[0m         \u001b[0;31m# For backward compatibility, we support NDArrayWrapper objects.\u001b[0m\u001b[0;34m\u001b[0m\u001b[0;34m\u001b[0m\u001b[0m\n",
      "\u001b[0;32m/usr/lib/python3.5/pickle.py\u001b[0m in \u001b[0;36mload_build\u001b[0;34m(self)\u001b[0m\n\u001b[1;32m   1508\u001b[0m         \u001b[0msetstate\u001b[0m \u001b[0;34m=\u001b[0m \u001b[0mgetattr\u001b[0m\u001b[0;34m(\u001b[0m\u001b[0minst\u001b[0m\u001b[0;34m,\u001b[0m \u001b[0;34m\"__setstate__\"\u001b[0m\u001b[0;34m,\u001b[0m \u001b[0;32mNone\u001b[0m\u001b[0;34m)\u001b[0m\u001b[0;34m\u001b[0m\u001b[0m\n\u001b[1;32m   1509\u001b[0m         \u001b[0;32mif\u001b[0m \u001b[0msetstate\u001b[0m \u001b[0;32mis\u001b[0m \u001b[0;32mnot\u001b[0m \u001b[0;32mNone\u001b[0m\u001b[0;34m:\u001b[0m\u001b[0;34m\u001b[0m\u001b[0m\n\u001b[0;32m-> 1510\u001b[0;31m             \u001b[0msetstate\u001b[0m\u001b[0;34m(\u001b[0m\u001b[0mstate\u001b[0m\u001b[0;34m)\u001b[0m\u001b[0;34m\u001b[0m\u001b[0m\n\u001b[0m\u001b[1;32m   1511\u001b[0m             \u001b[0;32mreturn\u001b[0m\u001b[0;34m\u001b[0m\u001b[0m\n\u001b[1;32m   1512\u001b[0m         \u001b[0mslotstate\u001b[0m \u001b[0;34m=\u001b[0m \u001b[0;32mNone\u001b[0m\u001b[0;34m\u001b[0m\u001b[0m\n",
      "\u001b[0;32msklearn/tree/_tree.pyx\u001b[0m in \u001b[0;36msklearn.tree._tree.Tree.__setstate__\u001b[0;34m()\u001b[0m\n",
      "\u001b[0;32msklearn/tree/_tree.pyx\u001b[0m in \u001b[0;36msklearn.tree._tree.Tree._resize_c\u001b[0;34m()\u001b[0m\n",
      "\u001b[0;32msklearn/tree/_utils.pyx\u001b[0m in \u001b[0;36msklearn.tree._utils.safe_realloc\u001b[0;34m()\u001b[0m\n",
      "\u001b[0;31mMemoryError\u001b[0m: could not allocate 83732240 bytes"
     ]
    }
   ],
   "source": [
    "import time\n",
    "time_start = time.time()\n",
    "# 加载新闻分词\n",
    "segmentationer = ws.WordSegmentation()\n",
    "labeler = PlateLabel()\n",
    "print('Initiating cost {:.0f}s'.format(time.time()-time_start))"
   ]
  },
  {
   "cell_type": "code",
   "execution_count": 7,
   "metadata": {},
   "outputs": [
    {
     "name": "stdout",
     "output_type": "stream",
     "text": [
      "['宝马', '戴姆勒', '牵手', '背后', '行业', '竞争', '加剧', '倒逼', 'Uber', '滴滴', '出行', '平台', '快速', '发展', '无形', '无形中', '一种', '压力', '促使', '传统', '汽车', '巨头', '走', '一方', '抢夺', '出行', '服务', '市场', '蛋糕', '一方', '另一方', '自动', '驾驶', '技术', '推广', '铺路', '近日', '德国', '两大', '汽车', '制造', '制造商', '宝马', '戴姆勒', '称', '合并', '汽车', '共享', '业务', '成立', '一家', '拥有', '同等', '股权', '合资', '企业', '合资企业', '合作', '领域', '包括', '共享', '汽车', '打车', '服务', '停车', '服务', '充电', '网络', '模式', '联运', '业务', '整合', '新', '公司', '全球', '规模', '共享', '出行', '服务', '服务商', '全球', '拥有', '万辆', '共享', '汽车', '约', '万叫', '车', '软件', '司机', '用户', '超过', '万个', '充电', '桩', '希望', '合资', '公司', '快速', '发展', '大规', '规模', '大规模', '收购', '戴姆勒', '首席', '财务', '官', '博多', '乌博', 'BodoUebber', '合资', '公司', '目标', '全球', '全球性', '参与', '参与者', '德国', '贝尔', '吉施', '格拉', '拉德', '格拉德', '巴赫', '科学', '应用科学', '大学', '汽车', '管理', '中心', '管理中心', '主任', 'StefanBratzel', '接受', '外媒', '采访', '时', '戴姆勒', '宝马', '合作', '正确', '完全正确', '方向', '发展', '服务', '大面', '面积', '大面积', '发展', '盈利', '基础', '设施', '基础设施', '间接', '费用', '合并', '合并', '首个', '目标', '行业', '玩家', '盈利', '宝马', '董事', '董事会', '成员', 'PeterSchwarzenbauer', '咨询', '公司', '波士', '波士顿', '一项', '调查', '预测', '显示', '年', '新车', '销量', '共享', '出行', '减少', '汽车', '制造', '制造商', '遭受', '损失', '超过', '美元', '亿美元', '意味', '意味着', '持续', '持续性', '盈利', '汽车', '制造', '制造商', '出行', '服务', '市场', '实际上', '戴姆勒', '宝马', '早', '布局', '共享', '汽车', '业务', '传统', '车企', '汽车', '共享', '项目', 'car2go', '成立', '年', '宝马', 'DriveNow', '年', '推出', '运营', '成本', '高等', '因素', '未', '盈利', '合并', '业务', '一方', '共享', '运营', '资源', '降低', '成本', '低成本', '降低成本', '一方', '另一方', '用户', '提供', '车辆', '选择', '捆绑', '优惠', '互联', '联网', '互联网', '企业', '相比', '传统', '车企', '具备', '运营', '出行', '服务', '平台', '服务平台', '先天', '优势', '出行', '服务', '平台', '服务平台', '建设', '涉及', '数据', 'IT', '技术', '云', '平台', '建设', '汽车', '企业', '这方', '这方面', '欠缺', '几年', '收购', '科技', '公司', '弥补', '互联', '联网', '互联网', '技术', '缺失', '互联', '联网', '互联网', '企业', '公司', '文化', '灵活', '汽车', '车行', '行业', '汽车行业', '专家', '颜景辉', '记者', '传统', '汽车', '厂商', '加快', '奥迪', '举办', '年', '财报', '年', '会上', '称要', '组织', '结构', '变革', '高效', '工作', '效率', '工作效率', '成立', '创新', '中心', '采用', '互联', '联网', '互联网', '企业', '工作', '方式', '毕马威', '企业', '咨询', '中国', '有限', '公司', '有限公司', '合伙', '合伙人', 'Huu', 'HoiTran', '接受', '第一', '财经', '记者', '采访', '时', '宝马', '戴姆勒', '走向', '合作', '竞争', '压力', '判断', '未来', '取胜', '这要', '用户', '体验', '忠诚', '忠诚度', '商务', '商务部', '研究', '研究院', '国际', '市场', '研究', '研究所', '所长', '副所长', '白明', '宝马', '戴姆勒', '汽车', '制造', '制造商', '延伸', '业务', '业务范围', '制造', '经营', '经营范围', '提高', '共享', '出行', '环境', '有助', '助于', '有助于', '自动', '驾驶', '汽车', '高', '起点', '共享', '汽车', '引入', '自动', '驾驶', '技术', '影响', '共享', '汽车', '业务', '成本', '架构', '通用', '汽车', '通用汽车', '战略', '全球', '业务', '规划', '副总', '总裁', '副总裁', '迈克', '克尔', '迈克尔', '艾博森', '第七', '七届', '第七届', '全球', '汽车', '论坛', '汽车论坛', '时', '公开', '一家', '公司', '自动', '驾驶', '技术', '百分', '百分百', '放心', '情况', '自动', '驾驶', '技术', '搭载', '量产', '车型', '消费', '消费者', '承担', '相关', '风险', '共享', '出行', '车辆', '自动', '驾驶', '技术', '风险', '服务', '提供', '提供商', '服务提供商', '承担', '自动', '驾驶', '技术', '推广', '降低', '风险', '科技', '巨头', '加紧', '自动', '驾驶', '领域', '争夺', '近日', '谷歌', '旗下', '无人', '驾驶', '无人驾驶', '部门', 'Waymo', '印度', '塔塔', '汽车', '旗下', '英国', '汽车', '制造', '制造商', '捷豹', '路', '虎', '达成', '为期', '八年', '合作', '协议', '年', '到期', '计划', '购入', '万辆', '捷豹', 'I', 'Pace', '电动', '化', 'SUV', '晚些', '晚些时候', '推出', '自动', '驾驶', '打车', '服务', '主力', '车型', '滴滴', '出行', '加快', '自动', '驾驶', '领域', '研发', '意味', '意味着', '软件', '技术', '软件技术', '缺乏', '传统', '汽车', '厂商', '限于', '生产', '制造', '端', '未来', '沦为', '科技', '巨头', '代工', '工厂', '代工厂', '汽车', '厂商', '自然', '不想', '沦为', '代工', '工厂', '代工厂', '百度', '做', '自动', '驾驶', '初期', '宝马', '合作', '但仅', '两个', '月', '宝马', '中国', 'CEO', '康思远', 'OlafKastner', '解释', '称', '两个', '公司', '发展', '步伐', '经营', '理念', '研究', '分歧', '百度', '波罗', '阿波罗', '计划', '百度', '想要', '握有', '主动', '主动权', '自动', '驾驶', '平台', '宝马', '自然', '不想', '夺取', '主动', '主动权', '总有一天', '出行', '平台', '硬件', '制造', '制造商', '之间', '一场', '战争', '滴滴', '出行', 'CEO', '程维', '公开', '宝马', '戴姆勒', '合并', '共享', '汽车', '业务', '意味', '传统', '车企', '巨头', '出行', '平台', '宣战', '汽车', '产业', '革命', '产业革命', '浪潮', '中', '玩家', '拭目', '以待', '拭目以待']\n",
      "[0, 0, 0, 0, 0, 0, 0, 0, 0, 0, 0, 0, 0, 0, 0, 0, 0, 0, 0, 0, 0, 0, 0, 0, 0, 0.048224244, 0, 0, 0, 0, 0, 0, 0, 0, 0, 0, 0, 0, 0, 0, 0, 0, 0, 0, 0, 0, 0, 0, 0, 0, 0, 0.075101554, 0, 0.027376892, 0, 0, 0, 0, 0, 0, 0, 0, 0, 0, 0, 0, 0, 0, 0, 0, 0, 0, 0, 0, 0, 0, 0, 0, 0, 0, 0, 0, 0, 0, 0.025765363, 0.020272719, 0, 0, 0, 0, 0, 0, 0, 0, 0, 0, 0, 0, 0, 0, 0, 0, 0.015499581, 0, 0, 0, 0, 0, 0, 0, 0, 0, 0, 0, 0, 0, 0, 0, 0, 0, 0, 0, 0, 0, 0, 0, 0, 0, 0.031300765, 0, 0, 0, 0, 0, 0, 0, 0, 0.028187726, 0, 0, 0, 0, 0, 0.010757615, 0, 0, 0, 0, 0, 0, 0, 0, 0, 0, 0, 0, 0, 0, 0, 0.01225731, 0, 0, 0, 0, 0, 0, 0, 0, 0, 0, 0, 0, 0, 0, 0, 0, 0, 0, 0, 0, 0, 0, 0, 0, 0, 0, 0, 0, 0, 0.014189634, 0, 0, 0, 0.07397735, 0, 0, 0, 0, 0, 0, 0, 0, 0, 0.022444911, 0, 0, 0, 0, 0, 0, 0, 0.09137799, 0, 0, 0, 0, 0, 0, 0, 0, 0, 0, 0, 0, 0.020206451, 0, 0, 0, 0, 0, 0.013843189, 0, 0, 0, 0, 0, 0, 0, 0, 0, 0, 0, 0, 0, 0, 0, 0.01654387, 0.011115491, 0, 0, 0, 0, 0, 0, 0, 0, 0, 0, 0, 0, 0, 0, 0, 0, 0, 0, 0, 0, 0, 0, 0, 0, 0, 0, 0, 0, 0, 0, 0, 0, 0, 0, 0, 0, 0, 0, 0, 0, 0, 0, 0, 0, 0, 0, 0, 0, 0, 0, 0, 0, 0]\n",
      "['汽车行业']\n",
      "totally cost 0s\n"
     ]
    }
   ],
   "source": [
    "\n",
    "time_start = time.time()\n",
    "\n",
    "str_title_content = \"宝马和戴姆勒牵手背后：行业竞争加剧倒逼的结果 Uber、滴滴等出行平台快速发展，无形中形成一种压力，促使传统汽车巨头走到一起，一方面抢夺出行服务市场的蛋糕，另一方面为自动驾驶技术的推广铺路。近日，德国两大汽车制造商宝马和戴姆勒称将合并各自的汽车共享业务，共同成立一家拥有同等股权的合资企业，其合作领域包括共享汽车、打车服务、停车服务、充电网络、多模式联运等业务。整合后的新公司将成为全球规模最大的共享出行服务商之一，在全球范围内拥有2万辆共享汽车、约14万叫车软件司机和1300万用户以及超过14.3万个充电桩。“我们希望合资公司快速发展，我们已经准备好了大规模的收购。”戴姆勒首席财务官博多·乌博（Bodo Uebber）表示，合资公司的目标是成为一个全球性的参与者。德国贝尔吉施格拉德巴赫应用科学大学汽车管理中心主任Stefan Bratzel在接受外媒采访时表示，戴姆勒与宝马的合作是“朝着完全正确的方向发展，因为移动服务正在向大面积发展。现在不能马上在那里盈利，但有很多基础设施和间接费用可以合并。”“我们合并后的首个目标是要成为行业大玩家，然后才能实现盈利。”宝马董事会成员Peter Schwarzenbauer表示。咨询公司波士顿的一项调查预测显示，到2021年，新车销量将因共享出行减少1%左右，汽车制造商每年遭受的损失将超过80亿美元。这意味着，为了能够实现持续性的盈利，这些汽车制造商必然要考虑出行服务市场。实际上，戴姆勒和宝马都在较早布局共享汽车业务的传统车企。汽车共享项目“car2go”成立于2008年，宝马的“Drive Now”于2011年推出。不过，当前由于运营成本较高等因素目前两者均未实现盈利。合并业务一方面能够共享运营资源从而降低成本，另一方面可以给用户提供更多的车辆选择和捆绑优惠。不过，与互联网企业相比，传统车企并不具备运营出行服务平台的先天优势。“出行服务平台的建设涉及到大数据、IT技术以及云平台等方面的建设，汽车企业在这方面有所欠缺。但最近几年，他们也在收购一些科技公司来弥补互联网技术的缺失。此外，互联网企业公司的文化是比较灵活的，反应迅速。”汽车行业专家颜景辉对记者表示，传统汽车厂商也在加快转变，比如奥迪就在最近举办的2017年财报年会上称要在组织结构上进行变革，以达到更加高效的工作效率，其成立的创新中心已经采用了互联网企业的工作方式。毕马威企业咨询(中国）有限公司合伙人Huu-Hoi Tran在接受第一财经记者采访时表示，宝马和戴姆勒走向合作就是竞争压力造成的结果。“但现在还无法判断未来究竟谁能够取胜，这要看用户的体验和忠诚度。”在商务部研究院国际市场研究所副所长白明看来，宝马和戴姆勒逐渐从汽车制造商延伸业务范围，从制造到使用扩大了经营范围。提高共享出行的使用环境，有助于在自动驾驶汽车等很多方面获得更高的起点。“共享汽车让我们更快引入自动驾驶技术，同时影响共享汽车业务的成本架构。”通用汽车战略与全球业务规划副总裁迈克尔·艾博森曾在第七届全球汽车论坛时公开表示。而目前没有任何一家公司可以做到对自动驾驶技术百分百的放心，在这样的情况下，如果将自动驾驶技术直接搭载在量产车型上，那么将由普通消费者来承担与安全相关的风险。如果在共享出行的车辆上应用自动驾驶技术，风险就由服务提供商来承担，这让自动驾驶技术的推广在安全方面降低了很多风险。科技巨头也在加紧在自动驾驶领域的争夺。近日，谷歌旗下的无人驾驶部门Waymo宣布，已与印度塔塔汽车旗下的英国汽车制造商捷豹路虎达成为期八年的合作协议（2026年到期），计划购入2万辆捷豹I-Pace纯电动化SUV，作为其今年晚些时候推出的自动驾驶打车服务主力车型，而滴滴出行也正在加快在自动驾驶领域的研发。这意味着，如果软件技术缺乏的传统汽车厂商仍然只限于生产制造端的话，未来就可能沦为这些科技巨头的代工厂。汽车厂商自然不想沦为代工厂，比如，在百度做自动驾驶初期，宝马曾与其合作，但仅维持了两个月左右。宝马中国CEO康思远(Olaf Kastner)曾为此解释称，两个公司的发展步伐以及经营理念有一些不同，对今后如何进行研究存在分歧。从今天的百度阿波罗计划看来，百度是想要开展自己握有主动权的自动驾驶平台，而宝马自然不想被夺取主动权。“总有一天，出行平台和硬件制造商之间会有一场战争。”滴滴出行CEO程维曾公开表示。宝马和戴姆勒合并共享汽车业务，意味传统车企巨头将向出行平台宣战，在汽车产业革命的浪潮中，究竟谁能够成为最大的玩家，这拭目以待。\"\n",
    "\n",
    "# 新闻分词\n",
    "segmentationer = ws.WordSegmentation()\n",
    "news_seg = segmentationer.word_segmentation(str_title_content)\n",
    "label =  labeler.plate_forcast(news_seg)\n",
    "print(label)\n",
    "\n",
    "time_elapsed = time.time() - time_start\n",
    "print('totally cost {:.0f}s'.format(time.time()-time_start))"
   ]
  },
  {
   "cell_type": "code",
   "execution_count": null,
   "metadata": {},
   "outputs": [],
   "source": []
  }
 ],
 "metadata": {
  "kernelspec": {
   "display_name": "Python 3",
   "language": "python",
   "name": "python3"
  },
  "language_info": {
   "codemirror_mode": {
    "name": "ipython",
    "version": 3
   },
   "file_extension": ".py",
   "mimetype": "text/x-python",
   "name": "python",
   "nbconvert_exporter": "python",
   "pygments_lexer": "ipython3",
   "version": "3.5.2"
  }
 },
 "nbformat": 4,
 "nbformat_minor": 2
}
