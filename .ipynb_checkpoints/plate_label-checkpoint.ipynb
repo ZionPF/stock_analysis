{
 "cells": [
  {
   "cell_type": "markdown",
   "metadata": {},
   "source": [
    "# 在线标记资讯关联板块\n",
    "\n",
    "* 加载LDA模型\n",
    "* 加载RF分类模型\n",
    "* 对于资讯，用LDA变为Vector\n",
    "* 将Vector进行分类，输出前三的板块名\n"
   ]
  },
  {
   "cell_type": "code",
   "execution_count": null,
   "metadata": {},
   "outputs": [],
   "source": [
    "from sklearn.externals import joblib\n",
    "#lr是一个LogisticRegression模型\n",
    "\n",
    "import word_segmentation as ws\n",
    "\n",
    "class PlateLabel():\n",
    "    def __init__(lda_path = '../model/lda.model', rf_path = '../model/rf.model' ):\n",
    "        self.lda = LdaModel.load(lda_path)\n",
    "        #self.rf = joblib.load(rf_path)\n",
    "    def plate_forcast(news_words_list):\n",
    "        news_bow = dictionary.doc2bow(news_word)      #文档转换成bow  \n",
    "        news_lda = lda2list(lda[news_bow],201)\n",
    "        \n"
   ]
  }
 ],
 "metadata": {
  "kernelspec": {
   "display_name": "Python 3",
   "language": "python",
   "name": "python3"
  },
  "language_info": {
   "codemirror_mode": {
    "name": "ipython",
    "version": 3
   },
   "file_extension": ".py",
   "mimetype": "text/x-python",
   "name": "python",
   "nbconvert_exporter": "python",
   "pygments_lexer": "ipython3",
   "version": "3.5.2"
  }
 },
 "nbformat": 4,
 "nbformat_minor": 2
}
