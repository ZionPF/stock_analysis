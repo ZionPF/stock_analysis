{
 "cells": [
  {
   "cell_type": "markdown",
   "metadata": {},
   "source": [
    "### 建立tf-idf模型\n",
    "使用语料库news_word.txt的词库建立tf-idf模型"
   ]
  },
  {
   "cell_type": "code",
   "execution_count": null,
   "metadata": {},
   "outputs": [],
   "source": [
    "import jieba\n",
    "import pandas as pd\n",
    "from gensim import corpora, models, similarities\n",
    "\n",
    "DATA_PATH = '/data/jupyter/stock/data/news_words.txt'\n",
    "NEWS_PATH = '/data/jupyter/stock/data/news.csv'\n",
    "all_doc_list = []\n",
    "\n",
    "with open(DATA_PATH, 'r') as data:\n",
    "    for line in data.readlines():\n",
    "        all_doc_list.append(line.replace('\\n', '').strip().split(' '))\n",
    "\n",
    "dictionary = corpora.Dictionary(all_doc_list)\n",
    "corpus = [dictionary.doc2bow(doc) for doc in all_doc_list]\n",
    "tfidf = models.TfidfModel(corpus)\n"
   ]
  },
  {
   "cell_type": "code",
   "execution_count": 3,
   "metadata": {},
   "outputs": [
    {
     "name": "stdout",
     "output_type": "stream",
     "text": [
      "TfidfModel(num_docs=29265, num_nnz=7554144)\n"
     ]
    }
   ],
   "source": [
    "print(tfidf)"
   ]
  },
  {
   "cell_type": "markdown",
   "metadata": {},
   "source": [
    "### 计算当天新闻库和新入库新闻的相似度\n",
    "以新的批量新闻数据为当天入库的新闻，与一条新闻数据计算相似度"
   ]
  },
  {
   "cell_type": "code",
   "execution_count": 5,
   "metadata": {},
   "outputs": [
    {
     "name": "stdout",
     "output_type": "stream",
     "text": [
      "[]\n"
     ]
    }
   ],
   "source": [
    "obj = pd.read_csv('./data/news.csv')\n",
    "contents = obj['content']\n",
    "doc_test=\"【保监会：已发现9家保险公司存股权违规现象 将进一步处置】保监会发布《保险公司股权管理办法》，保监会表示，除了今日出台的股权管理办法，还将出台一些列配套办法，如独立董事办法等。而前期，在保监会检查中，发现9家保险公司有违规股权情况，目前已公布5家，未来将进一步处置。【保监会：已发现9家保险公司存股权违规现象 将进一步处置】保监会发布《保险公司股权管理办法》，保监会表示，除了今日出台的股权管理办法，还将出台一些列配套办法，如独立董事办法等。而前期，在保监会检查中，发现9家保险公司有违规股权情况，目前已公布5家，未来将进一步处置。\"\n",
    "\n",
    "all_news = []\n",
    "for i in range(6000):\n",
    "    str_content = str(contents[i])\n",
    "    str_content = str_content.replace('\\t', '')\n",
    "    str_content = str_content.replace('\\n', '')\n",
    "    str_content = str_content.replace('\\r', '')\n",
    "    all_news.append(str_content)\n",
    "\n",
    "\n",
    "all_news_list = []\n",
    "doc_test_list = []\n",
    "\n",
    "for news in all_news:\n",
    "    news_list = [word for word in jieba.cut(news)]\n",
    "    all_doc_list.append(news_list)\n",
    "\n",
    "doc_test_list = [word for word in jieba.cut(doc_test)]\n",
    "\n",
    "dictionary2 = corpora.Dictionary(all_news_list)\n",
    "corpus2 = [dictionary2.doc2bow(news) for news in all_news_list]\n",
    "doc_test_vec = dictionary.doc2bow(doc_test_list)\n",
    "\n",
    "\n",
    "tfidf[doc_test_vec]\n",
    "index = similarities.SparseMatrixSimilarity(tfidf[corpus2], num_features=len(dictionary.keys()))\n",
    "sim = index[tfidf[doc_test_vec]]\n",
    "\n",
    "print(sorted(enumerate(sim), key=lambda item: -item[1]))"
   ]
  }
 ],
 "metadata": {
  "kernelspec": {
   "display_name": "Python 3",
   "language": "python",
   "name": "python3"
  },
  "language_info": {
   "codemirror_mode": {
    "name": "ipython",
    "version": 3
   },
   "file_extension": ".py",
   "mimetype": "text/x-python",
   "name": "python",
   "nbconvert_exporter": "python",
   "pygments_lexer": "ipython3",
   "version": "3.5.2"
  }
 },
 "nbformat": 4,
 "nbformat_minor": 2
}
