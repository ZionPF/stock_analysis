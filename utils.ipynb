{
 "cells": [
  {
   "cell_type": "code",
   "execution_count": 2,
   "metadata": {},
   "outputs": [
    {
     "name": "stdout",
     "output_type": "stream",
     "text": [
      "600515(海航基础)\n"
     ]
    }
   ],
   "source": [
    "def code_to_stock(str_code_list):\n",
    "    dict_code = stock_code_dict()\n",
    "    code_list = str_code_list.split(',')\n",
    "    stock_list = []\n",
    "    for code in code_list:\n",
    "        if code in dict_code:\n",
    "            stock = dict_code.get(code)\n",
    "            code_stock = code + '(' + stock + ')'\n",
    "            stock_list.append(code_stock)\n",
    "        else:\n",
    "            stock_list.append(code)\n",
    "    \n",
    "    str_stock_list = ','.join(stock_list)\n",
    "    return str_stock_list\n",
    "\n",
    "def stock_code_dict():\n",
    "    # 股票及股票代码表\n",
    "    data_path = '/data/jupyter/stock/data/stock_list.csv'\n",
    "\n",
    "    stock_name = []  # 提取出的股票名\n",
    "    stock_code = []  # 提取出的股票代码\n",
    "\n",
    "    with open(data_path, 'r', encoding='utf-8') as data:\n",
    "        for line in data:\n",
    "            stock_name.append(line[0:-9])\n",
    "            stock_code.append(line[-8:-2])\n",
    "\n",
    "    dict_code = dict(zip(stock_code, stock_name))\n",
    "\n",
    "    return dict_code\n",
    "\n",
    "if __name__ == '__main__':\n",
    "    print(code_to_stock('600515'))"
   ]
  }
 ],
 "metadata": {
  "kernelspec": {
   "display_name": "Python 3",
   "language": "python",
   "name": "python3"
  },
  "language_info": {
   "codemirror_mode": {
    "name": "ipython",
    "version": 3
   },
   "file_extension": ".py",
   "mimetype": "text/x-python",
   "name": "python",
   "nbconvert_exporter": "python",
   "pygments_lexer": "ipython3",
   "version": "3.5.2"
  }
 },
 "nbformat": 4,
 "nbformat_minor": 2
}
