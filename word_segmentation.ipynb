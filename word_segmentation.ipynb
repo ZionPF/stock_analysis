{
 "cells": [
  {
   "cell_type": "code",
   "execution_count": null,
   "metadata": {},
   "outputs": [],
   "source": [
    "import jieba\n",
    "\n",
    "def word_segmentation( str_title_content):\n",
    "    # 结巴分词词库加载股票名词\n",
    "    jieba.load_userdict('./data/user_dict.txt')\n",
    "    \n",
    "    # 分词结果列表\n",
    "    news_list = [word for word in jieba.cut(str_title_content, cut_all=False)]\n",
    "    \n",
    "    return news_list"
   ]
  }
 ],
 "metadata": {
  "kernelspec": {
   "display_name": "Python 3",
   "language": "python",
   "name": "python3"
  },
  "language_info": {
   "codemirror_mode": {
    "name": "ipython",
    "version": 3
   },
   "file_extension": ".py",
   "mimetype": "text/x-python",
   "name": "python",
   "nbconvert_exporter": "python",
   "pygments_lexer": "ipython3",
   "version": "3.5.2"
  }
 },
 "nbformat": 4,
 "nbformat_minor": 2
}
