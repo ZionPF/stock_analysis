{
 "cells": [
  {
   "cell_type": "code",
   "execution_count": 1,
   "metadata": {},
   "outputs": [
    {
     "name": "stderr",
     "output_type": "stream",
     "text": [
      "Building prefix dict from the default dictionary ...\n",
      "Loading model from cache /tmp/jieba.cache\n",
      "Loading model cost 0.866 seconds.\n",
      "Prefix dict has been built succesfully.\n"
     ]
    },
    {
     "name": "stdout",
     "output_type": "stream",
     "text": [
      "分词结果：\n",
      "['新浪', '财经', '讯', '月', '日', '消息', '海航', '基础', '海航基础', '600515', '月', '日', '晚间', '公告', '孙', '公司', '海航', '地产', '拟', '海南', '融创昌晟', '签订', '股权', '转让', '协议', '出售', '海航', '地产', '持有', '海岛', '物流', '股权', '转让', '价款', '约', '亿元', '海航', '地产', '拟', '出售', '持有', '海南', '高', '房地', '地产', '房地产', '开发', '有限', '公司', '有限公司', '股权', '海南', '融创昌晟', '转让', '价款', '约', '亿元', '责任', '编辑', '责任编辑', '张恒']\n"
     ]
    }
   ],
   "source": [
    "import jieba\n",
    "import unicodedata\n",
    "\n",
    "\n",
    "def stop_words_list():\n",
    "    # 停用词文件\n",
    "    data_path = '/data/jupyter/stock/utils/stopwords.txt'\n",
    "\n",
    "    with open(data_path, 'r', encoding='utf-8') as data:\n",
    "        stopwords = [line.strip() for line in data.readlines()]\n",
    "\n",
    "    temp_stop_list = ['\\u3000', '\\xa0', '\\t']\n",
    "    stop_words = stopwords + temp_stop_list\n",
    "    return stop_words\n",
    "\n",
    "\n",
    "def stock_code_dict():\n",
    "    # 股票及股票代码表\n",
    "    data_path = '/data/jupyter/stock/data/stock_list.csv'\n",
    "\n",
    "    stock_name = []  # 提取出的股票名\n",
    "    stock_code = []  # 提取出的股票代码\n",
    "\n",
    "    with open(data_path, 'r', encoding='utf-8') as data:\n",
    "        for line in data:\n",
    "            stock_name.append(line[0:-9])\n",
    "            stock_code.append(line[-8:-2])\n",
    "\n",
    "    dict_code = dict(zip(stock_code, stock_name))\n",
    "\n",
    "    return dict_code\n",
    "\n",
    "\n",
    "def is_number(s):\n",
    "    # 判断是否为数字\n",
    "    try:\n",
    "        float(s)\n",
    "        return True\n",
    "    except ValueError:\n",
    "        pass\n",
    "    try:\n",
    "        unicodedata.numeric(s)\n",
    "        return True\n",
    "    except (TypeError, ValueError):\n",
    "        pass\n",
    "    return False\n",
    "\n",
    "\n",
    "class WordSegmentation(object):\n",
    "\n",
    "    def __init__(self):\n",
    "        self.dict_code = stock_code_dict()\n",
    "        self.stopword_list = stop_words_list()\n",
    "\n",
    "    def word_segmentation(self, str_title_content):\n",
    "\n",
    "        # 结巴分词词库加载股票名词\n",
    "        jieba.load_userdict('/data/jupyter/stock/data/user_dict.txt')\n",
    "\n",
    "        # 分词结果列表\n",
    "        news_list = []\n",
    "\n",
    "        str_content = str(str_title_content).replace('\\t', '').replace('\\n', '').replace('\\r', '').replace(' ', '')\n",
    "        str_words = ','.join(jieba.cut_for_search(str_content)).split(',')\n",
    "\n",
    "        for word in str_words:\n",
    "            if word not in self.stopword_list:\n",
    "                if word[-1] != '%':\n",
    "                    if is_number(word):\n",
    "                        if word in self.dict_code:\n",
    "                            news_list.append(word)\n",
    "                    else:\n",
    "                        news_list.append(word)\n",
    "\n",
    "        return news_list\n",
    "\n",
    "if __name__ == \"__main__\":\n",
    "    str_title_content = \"新浪财经讯 3月12日消息，海航基础（600515）3月12日晚间公告，孙公司海航地产拟与海南融创昌晟签订《股权转让协议》，出售海航地产所持有的海岛物流100%的股权，转让价款约7.97亿元；同时，海航地产拟出售所持有的海南高和房地产开发有限公司100%的股权至海南融创昌晟，转让价款约11.36亿元。责任编辑：张恒\"\n",
    "    \n",
    "    # 加载分词类\n",
    "    ws = WordSegmentation()\n",
    "    news_seg = ws.word_segmentation(str_title_content)\n",
    "    print(\"分词结果：\")\n",
    "    print(news_seg)"
   ]
  }
 ],
 "metadata": {
  "kernelspec": {
   "display_name": "Python 3",
   "language": "python",
   "name": "python3"
  },
  "language_info": {
   "codemirror_mode": {
    "name": "ipython",
    "version": 3
   },
   "file_extension": ".py",
   "mimetype": "text/x-python",
   "name": "python",
   "nbconvert_exporter": "python",
   "pygments_lexer": "ipython3",
   "version": "3.5.2"
  }
 },
 "nbformat": 4,
 "nbformat_minor": 2
}
