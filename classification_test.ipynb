{
 "cells": [
  {
   "cell_type": "code",
   "execution_count": 1,
   "metadata": {},
   "outputs": [
    {
     "name": "stdout",
     "output_type": "stream",
     "text": [
      "[1]\n",
      "[1]\n"
     ]
    }
   ],
   "source": [
    "# Naive Bayes\n",
    "\n",
    "#高斯朴素贝叶斯  \n",
    "import numpy as np  \n",
    "X = np.array([[-1, -1], [-2, -1], [-3, -2], [1, 1], [2, 1], [3, 2]])  \n",
    "Y = np.array([1, 1, 1, 2, 2, 2])  \n",
    "from sklearn.naive_bayes import GaussianNB  \n",
    "clf = GaussianNB().fit(X, Y)  \n",
    "print(clf.predict([[-0.8,-1]]))\n",
    "  \n",
    "''''' \n",
    "partial_fit说明：增量的训练一批样本 \n",
    "这种方法被称为连续几次在不同的数据集，从而实现核心和在线学习，这是特别有用的，当数据集很大的时候，不适合在内存中运算 \n",
    "该方法具有一定的性能和数值稳定性的开销，因此最好是作用在尽可能大的数据块（只要符合内存的预算开销） \n",
    "'''  \n",
    "clf_pf = GaussianNB().partial_fit(X, Y, np.unique(Y))  \n",
    "print(clf_pf.predict([[-0.8,-1]]))"
   ]
  }
 ],
 "metadata": {
  "kernelspec": {
   "display_name": "Python 3",
   "language": "python",
   "name": "python3"
  },
  "language_info": {
   "codemirror_mode": {
    "name": "ipython",
    "version": 3
   },
   "file_extension": ".py",
   "mimetype": "text/x-python",
   "name": "python",
   "nbconvert_exporter": "python",
   "pygments_lexer": "ipython3",
   "version": "3.5.2"
  }
 },
 "nbformat": 4,
 "nbformat_minor": 2
}
