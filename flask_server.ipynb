{
 "cells": [
  {
   "cell_type": "code",
   "execution_count": 1,
   "metadata": {},
   "outputs": [
    {
     "name": "stdout",
     "output_type": "stream",
     "text": [
      "load 1h news success\n",
      "tf-idf model has beens build successfully\n"
     ]
    },
    {
     "name": "stderr",
     "output_type": "stream",
     "text": [
      " * Running on http://0.0.0.0:5000/ (Press CTRL+C to quit)\n",
      "Building prefix dict from the default dictionary ...\n",
      "Loading model from cache /tmp/jieba.cache\n"
     ]
    },
    {
     "name": "stdout",
     "output_type": "stream",
     "text": [
      "-------------\n",
      "time: 1526459460\n",
      "title: 新浪财经讯 3月12日消息\n"
     ]
    },
    {
     "name": "stderr",
     "output_type": "stream",
     "text": [
      "Loading model cost 0.885 seconds.\n",
      "Prefix dict has been built succesfully.\n"
     ]
    },
    {
     "name": "stdout",
     "output_type": "stream",
     "text": [
      "include stock: 300513,000066\n"
     ]
    },
    {
     "name": "stderr",
     "output_type": "stream",
     "text": [
      "10.200.44.28 - - [23/May/2018 20:06:10] \"POST /data/v1.0/getLabels/? HTTP/1.1\" 200 -\n"
     ]
    },
    {
     "name": "stdout",
     "output_type": "stream",
     "text": [
      "similarity success\n",
      "If repeat: 0\n",
      "公用事业\n",
      "['软件服务', '电子信息']\n",
      "forcasted plates: ['软件服务', '电子信息', '公用事业']\n",
      "forcasted stocks: ['600536', '603986', '300634']\n"
     ]
    }
   ],
   "source": [
    "import json\n",
    "from flask import Flask\n",
    "from flask import request\n",
    "import utils\n",
    "import word_segmentation as ws\n",
    "import news_similarity as ns\n",
    "import extract_stock_code as esc\n",
    "import news_plate_label as pl\n",
    "\n",
    "WordSegmentation = ws.WordSegmentation()\n",
    "NewsSimilarity = ns.NewsSimilarity()\n",
    "ExtractStockCode = esc.ExtractStockCode()\n",
    "NewsPlateLabel = pl.PlateLabel()\n",
    "\n",
    "app = Flask(__name__)\n",
    "Counter = 0\n",
    "\n",
    "@app.route('/')\n",
    "def hello_world():\n",
    "    return 'Hello World!'\n",
    "\n",
    "@app.route('/data/v1.0/getLabels/', methods=['POST'])\n",
    "def getLabels():\n",
    "    global Counter\n",
    "#     print(request.form['title'])\n",
    "#     print(request.form['content'])\n",
    "    str_time = request.form['time']\n",
    "    str_title = request.form['title']\n",
    "    str_content = request.form['content']\n",
    "    print(\"-------------\")\n",
    "    print(\"time:\",str_time)\n",
    "    print(\"title:\",str_title)\n",
    "    news_seg = WordSegmentation.word_segmentation(str_title + str_content)\n",
    "    content_seg = WordSegmentation.word_segmentation(str_content)\n",
    "#     print(news_seg)\n",
    "    str_code_list = ExtractStockCode.extract_stock_code(news_seg)\n",
    "    str_stock_list = utils.code_to_stock(str_code_list)\n",
    "    print(\"include stock:\",str_code_list)\n",
    "    repeat = NewsSimilarity.news_similarity(content_seg)\n",
    "    print(\"If repeat:\",repeat)\n",
    "    NewsSimilarity.add_news(str_time, news_seg)\n",
    "    code_list = str_code_list.split(',')\n",
    "    Counter += 1\n",
    "#     print(Counter)\n",
    "    \n",
    "    if Counter == 100:\n",
    "        NewsSimilarity.delete_1h_news()\n",
    "        NewsSimilarity.tf_idf_model()\n",
    "        Counter = 0\n",
    "    \n",
    "    #plate_label =  NewsPlateLabel.plate_forcast(news_seg)\n",
    "    plate_label = NewsPlateLabel.plate_top3(news_seg, code_list)\n",
    "    plate_string = \",\".join(plate_label)\n",
    "    print(\"forcasted plates:\",plate_label)\n",
    "    \n",
    "    stock_forcast = NewsPlateLabel.stock_forcast(plate_label)\n",
    "    str_code_forcast = \",\".join([str(x) for x in stock_forcast])\n",
    "    str_stock_forcast = utils.code_to_stock(str_code_forcast)\n",
    "    print(\"forcasted stocks:\",stock_forcast)\n",
    "    print(\"forcasted stocks_code:\",str_stock_forcast)\n",
    "    dic_output = dict(stock_code = str_stock_list, repeat = repeat, plate = plate_string, stock_forcast = str_stock_forcast)\n",
    "    json_output = json.dumps(dic_output)\n",
    "    return json_output\n",
    "\n",
    "if __name__ == '__main__':\n",
    "    app.run(\"0.0.0.0\")\n"
   ]
  }
 ],
 "metadata": {
  "kernelspec": {
   "display_name": "Python 3",
   "language": "python",
   "name": "python3"
  },
  "language_info": {
   "codemirror_mode": {
    "name": "ipython",
    "version": 3
   },
   "file_extension": ".py",
   "mimetype": "text/x-python",
   "name": "python",
   "nbconvert_exporter": "python",
   "pygments_lexer": "ipython3",
   "version": "3.5.2"
  }
 },
 "nbformat": 4,
 "nbformat_minor": 2
}
