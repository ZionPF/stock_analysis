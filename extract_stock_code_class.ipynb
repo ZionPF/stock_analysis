{
 "cells": [
  {
   "cell_type": "code",
   "execution_count": 1,
   "metadata": {},
   "outputs": [
    {
     "name": "stderr",
     "output_type": "stream",
     "text": [
      "Building prefix dict from the default dictionary ...\n",
      "Loading model from cache /tmp/jieba.cache\n",
      "Loading model cost 0.880 seconds.\n",
      "Prefix dict has been built succesfully.\n"
     ]
    },
    {
     "name": "stdout",
     "output_type": "stream",
     "text": [
      "分词结果：\n",
      "['新浪', '财经', '讯', '月', '日', '消息', '海航', '基础', '海航基础', '600515', '月', '日', '晚间', '公告', '孙', '公司', '海航', '地产', '拟', '海南', '融创昌晟', '签订', '股权', '转让', '协议', '出售', '海航', '地产', '持有', '海岛', '物流', '股权', '转让', '价款', '约', '亿元', '海航', '地产', '拟', '出售', '持有', '海南', '高', '房地', '地产', '房地产', '开发', '有限', '公司', '有限公司', '股权', '海南', '融创昌晟', '转让', '价款', '约', '亿元', '责任', '编辑', '责任编辑', '张恒']\n",
      "totally cost 4ms\n",
      "股票代码：\n",
      "600515\n"
     ]
    }
   ],
   "source": [
    "import time\n",
    "\n",
    "import word_segmentation\n",
    "\n",
    "def load_stock_code():\n",
    "    \"\"\"\n",
    "      加载数据库里的股票_代码字典\n",
    "      dict_stock({股票名：股票代码})\n",
    "      dict_code({股票代码：股票名})\n",
    "    \"\"\"\n",
    "\n",
    "    data_path = '/data/jupyter/stock/data/stock_list.csv'\n",
    "\n",
    "    stock_name = []  # 提取出的股票名\n",
    "    stock_code = []  # 提取出的股票代码\n",
    "\n",
    "    with open(data_path, 'r', encoding='utf-8') as data:\n",
    "        for line in data:\n",
    "            stock_name.append(line[0:-9])\n",
    "            stock_code.append(line[-8:-2])\n",
    "\n",
    "    dict_stock = dict(zip(stock_name, stock_code))\n",
    "    dict_code = dict(zip(stock_code, stock_name))\n",
    "\n",
    "    return dict_stock, dict_code\n",
    "\n",
    "class ExtractStockCode(object):\n",
    "\n",
    "    def __init__(self):\n",
    "        self.__dict_stock, self.__dict_code = load_stock_code()\n",
    "\n",
    "    def extract_stock_code(self, news_list):\n",
    "        \"\"\"\n",
    "        读取一条新闻的标题和正文，提取其中出现的股票名和股票代码，将股票名转换成股票代码，最后返回所有的股票代码\n",
    "        :param: 新闻的标题和正文分词结果（list）\n",
    "        :returns：包含的所有股票代码（string：code1,code2...）\n",
    "        \"\"\"\n",
    "\n",
    "        list_code = []  # 提取的股票代码列表\n",
    "\n",
    "        for word in news_list:\n",
    "            if word in self.__dict_stock:\n",
    "                word = self.__dict_stock[word]\n",
    "                if word not in list_code:\n",
    "                    list_code.append(word)\n",
    "\n",
    "            if (word in self.__dict_code and word not in list_code):\n",
    "                list_code.append(word)\n",
    "                \n",
    "        str_code_list = ','.join(list_code)\n",
    "\n",
    "        return str_code_list\n",
    "\n",
    "\n",
    "# Extract_stocke_code test\n",
    "if __name__ == \"__main__\":\n",
    "    # 新推送的新闻\n",
    "    str_title_content = \"新浪财经讯 3月12日消息，海航基础（600515）3月12日晚间公告，孙公司海航地产拟与海南融创昌晟签订《股权转让协议》，出售海航地产所持有的海岛物流100%的股权，转让价款约7.97亿元；同时，海航地产拟出售所持有的海南高和房地产开发有限公司100%的股权至海南融创昌晟，转让价款约11.36亿元。责任编辑：张恒\"\n",
    "\n",
    "    # 新闻分词\n",
    "    ws = word_segmentation.WordSegmentation()\n",
    "    news_list = ws.word_segmentation(str_title_content)\n",
    "\n",
    "    print(\"分词结果：\")\n",
    "    print(news_list)\n",
    "\n",
    "    time_start = time.time()\n",
    "\n",
    "    # 加载ExtractStockCode类\n",
    "    extract_stock_code = ExtractStockCode()\n",
    "\n",
    "    # 提取股票代码\n",
    "    str_code_list = extract_stock_code.extract_stock_code(news_list)\n",
    "\n",
    "    time_elapsed = time.time() - time_start\n",
    "    print('totally cost {:.0f}ms'.format(time_elapsed * 1000))\n",
    "\n",
    "    print(\"股票代码：\")\n",
    "    print(str_code_list)"
   ]
  }
 ],
 "metadata": {
  "kernelspec": {
   "display_name": "Python 3",
   "language": "python",
   "name": "python3"
  },
  "language_info": {
   "codemirror_mode": {
    "name": "ipython",
    "version": 3
   },
   "file_extension": ".py",
   "mimetype": "text/x-python",
   "name": "python",
   "nbconvert_exporter": "python",
   "pygments_lexer": "ipython3",
   "version": "3.5.2"
  }
 },
 "nbformat": 4,
 "nbformat_minor": 2
}
