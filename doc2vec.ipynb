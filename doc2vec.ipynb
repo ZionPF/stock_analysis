{
 "cells": [
  {
   "cell_type": "code",
   "execution_count": 7,
   "metadata": {},
   "outputs": [
    {
     "name": "stdout",
     "output_type": "stream",
     "text": [
      "Cleaning up dataset...\n",
      "Total running time:  0.001603000000000021\n"
     ]
    }
   ],
   "source": [
    "import gensim, logging\n",
    "import os\n",
    "\n",
    "logging.basicConfig(format = '%(asctime)s : %(levelname)s : %(message)s', level = logging.INFO)\n",
    "sentences = gensim.models.doc2vec.TaggedLineDocument('review_pure_text.txt')\n",
    "model = gensim.models.Doc2Vec(sentences, size = 100, window = 5)\n",
    "model.save('review_pure_text_model.txt')\n",
    "print len(model.docvecs)\n",
    "out = file('review_pure_text_vector.txt', 'w')\n",
    "for idx, docvec in enumerate(model.docvecs):\n",
    "    for value in docvec:\n",
    "        out.write(str(value) + ' ')\n",
    "    out.write('\\n')\n",
    "    print idx\n",
    "    print docvec\n",
    "out.close()"
   ]
  }
 ],
 "metadata": {
  "kernelspec": {
   "display_name": "Python 3",
   "language": "python",
   "name": "python3"
  },
  "language_info": {
   "codemirror_mode": {
    "name": "ipython",
    "version": 3
   },
   "file_extension": ".py",
   "mimetype": "text/x-python",
   "name": "python",
   "nbconvert_exporter": "python",
   "pygments_lexer": "ipython3",
   "version": "3.5.2"
  }
 },
 "nbformat": 4,
 "nbformat_minor": 2
}
